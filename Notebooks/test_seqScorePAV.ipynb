{
 "metadata": {
  "language_info": {
   "codemirror_mode": {
    "name": "ipython",
    "version": 3
   },
   "file_extension": ".py",
   "mimetype": "text/x-python",
   "name": "python",
   "nbconvert_exporter": "python",
   "pygments_lexer": "ipython3",
   "version": "3.7.3"
  },
  "orig_nbformat": 2,
  "kernelspec": {
   "name": "python373jvsc74a57bd0a18c5f99ca0da23f27197526742f17dc145cbdffa6ddb17c17382e6970a70a4c",
   "display_name": "Python 3.7.3 64-bit ('.venv': venv)",
   "language": "python"
  }
 },
 "nbformat": 4,
 "nbformat_minor": 2,
 "cells": [
  {
   "cell_type": "code",
   "execution_count": 1,
   "metadata": {},
   "outputs": [],
   "source": [
    "import sys\n",
    "sys.path.append('/Users/israel/local_git/local_versions/proportional_ranking')\n",
    "\n",
    "import proportional_ranking as pr\n",
    "import numpy as np\n",
    "import pandas as pd"
   ]
  },
  {
   "cell_type": "code",
   "execution_count": 2,
   "metadata": {},
   "outputs": [
    {
     "output_type": "execute_result",
     "data": {
      "text/plain": [
       "array([[False,  True,  True,  True, False, False],\n",
       "       [False,  True,  True,  True, False,  True],\n",
       "       [ True, False, False, False, False,  True],\n",
       "       [False, False,  True, False, False, False],\n",
       "       [False,  True, False,  True,  True, False],\n",
       "       [ True, False, False,  True,  True,  True],\n",
       "       [False, False,  True, False, False, False],\n",
       "       [False,  True, False,  True, False,  True],\n",
       "       [ True, False,  True,  True,  True,  True],\n",
       "       [ True,  True, False, False, False, False]])"
      ]
     },
     "metadata": {},
     "execution_count": 2
    }
   ],
   "source": [
    "np.random.seed(42)\n",
    "n_voters = 10\n",
    "n_candidates = 6 \n",
    "profile = pr.generate_profile(n_voters, n_candidates)\n",
    "profile"
   ]
  },
  {
   "cell_type": "code",
   "execution_count": 3,
   "metadata": {},
   "outputs": [
    {
     "output_type": "stream",
     "name": "stdout",
     "text": [
      "0 : b c d\n1 : b c d f\n2 : a f\n3 : c\n4 : b d e\n5 : a d e f\n6 : c\n7 : b d f\n8 : a c d e f\n9 : a b\n"
     ]
    }
   ],
   "source": [
    "pr.print_profile(profile)"
   ]
  },
  {
   "cell_type": "code",
   "execution_count": 4,
   "metadata": {},
   "outputs": [
    {
     "output_type": "stream",
     "name": "stdout",
     "text": [
      "seqPAV\n[3, 2, 0, 1, 5, 4]\nseqScorePAV with 1\n[3, 2, 0, 1, 5, 4]\n"
     ]
    }
   ],
   "source": [
    "seqPAV = pr.seqPAV()\n",
    "seqPAV.set_profile(profile)\n",
    "print(seqPAV.name)\n",
    "print(seqPAV.ranking())\n",
    "\n",
    "seqScorePAV = pr.seqScorePAV()\n",
    "seqScorePAV.set_profile(profile)\n",
    "print(seqScorePAV.name)\n",
    "print(seqScorePAV.ranking())"
   ]
  },
  {
   "cell_type": "code",
   "execution_count": 5,
   "metadata": {},
   "outputs": [
    {
     "output_type": "stream",
     "name": "stdout",
     "text": [
      "seqScorePAV with b\n[3, 2, 0, 1, 5, 4]\nseqScorePAV with [1, 1, 1]\n[3, 2, 0, 1, 4, 5]\n"
     ]
    }
   ],
   "source": [
    "seqScorePAV.set_scorevector('b')\n",
    "print(seqScorePAV.name)\n",
    "print(seqScorePAV.ranking())\n",
    "\n",
    "seqScorePAV.set_scorevector([1,1,1])\n",
    "print(seqScorePAV.name)\n",
    "print(seqScorePAV.ranking())"
   ]
  },
  {
   "cell_type": "code",
   "execution_count": null,
   "metadata": {},
   "outputs": [],
   "source": []
  }
 ]
}