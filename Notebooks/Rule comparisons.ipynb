{
 "cells": [
  {
   "cell_type": "markdown",
   "metadata": {},
   "source": [
    "# Rules"
   ]
  },
  {
   "cell_type": "code",
   "execution_count": 1,
   "metadata": {
    "ExecuteTime": {
     "end_time": "2021-05-12T16:46:01.340441Z",
     "start_time": "2021-05-12T16:46:00.697704Z"
    }
   },
   "outputs": [],
   "source": [
    "import proportional_ranking as pr\n",
    "import numpy as np\n",
    "import pandas as pd\n",
    "np.random.seed(42)"
   ]
  },
  {
   "cell_type": "markdown",
   "metadata": {},
   "source": [
    "## Generate a profile"
   ]
  },
  {
   "cell_type": "markdown",
   "metadata": {},
   "source": [
    "Let's first see how to generate a profile of voter. A profile is represented as a numpy matrix of boolean such that $P[i,j]$ is *True* if and only if voter $i$ approve candidate $j$."
   ]
  },
  {
   "cell_type": "code",
   "execution_count": 2,
   "metadata": {
    "ExecuteTime": {
     "end_time": "2021-05-12T16:16:05.244067Z",
     "start_time": "2021-05-12T16:16:05.234089Z"
    }
   },
   "outputs": [
    {
     "data": {
      "text/plain": [
       "array([[False,  True,  True,  True, False, False],\n",
       "       [False,  True,  True,  True, False,  True],\n",
       "       [ True, False, False, False, False,  True],\n",
       "       [False, False,  True, False, False, False],\n",
       "       [False,  True, False,  True,  True, False],\n",
       "       [ True, False, False,  True,  True,  True],\n",
       "       [False, False,  True, False, False, False],\n",
       "       [False,  True, False,  True, False,  True],\n",
       "       [ True, False,  True,  True,  True,  True],\n",
       "       [ True,  True, False, False, False, False]])"
      ]
     },
     "execution_count": 2,
     "metadata": {},
     "output_type": "execute_result"
    }
   ],
   "source": [
    "n_voters = 10\n",
    "n_candidates = 6 \n",
    "profile = pr.generate_profile(n_voters, n_candidates)\n",
    "profile"
   ]
  },
  {
   "cell_type": "markdown",
   "metadata": {},
   "source": [
    "We can also print the profile with *print_profile*"
   ]
  },
  {
   "cell_type": "code",
   "execution_count": 3,
   "metadata": {
    "ExecuteTime": {
     "end_time": "2021-05-12T16:16:05.265008Z",
     "start_time": "2021-05-12T16:16:05.249049Z"
    }
   },
   "outputs": [
    {
     "name": "stdout",
     "output_type": "stream",
     "text": [
      "0 : b c d\n",
      "1 : b c d f\n",
      "2 : a f\n",
      "3 : c\n",
      "4 : b d e\n",
      "5 : a d e f\n",
      "6 : c\n",
      "7 : b d f\n",
      "8 : a c d e f\n",
      "9 : a b\n"
     ]
    }
   ],
   "source": [
    "pr.print_profile(profile)"
   ]
  },
  {
   "cell_type": "markdown",
   "metadata": {},
   "source": [
    "# Find a proportional ranking"
   ]
  },
  {
   "cell_type": "markdown",
   "metadata": {},
   "source": [
    "You can use any of the rule to create a proportional ranking, print the ranking, and compute the quality of the ranking. For instance, with approval voting :"
   ]
  },
  {
   "cell_type": "code",
   "execution_count": 4,
   "metadata": {
    "ExecuteTime": {
     "end_time": "2021-05-12T16:16:05.272991Z",
     "start_time": "2021-05-12T16:16:05.268009Z"
    }
   },
   "outputs": [
    {
     "data": {
      "text/plain": [
       "<proportional_ranking.rules.AV.AV at 0x1f0aa09e518>"
      ]
     },
     "execution_count": 4,
     "metadata": {},
     "output_type": "execute_result"
    }
   ],
   "source": [
    "approval_voting = pr.AV()\n",
    "approval_voting.set_profile(profile)"
   ]
  },
  {
   "cell_type": "code",
   "execution_count": 5,
   "metadata": {
    "ExecuteTime": {
     "end_time": "2021-05-12T16:16:05.289943Z",
     "start_time": "2021-05-12T16:16:05.274979Z"
    }
   },
   "outputs": [
    {
     "data": {
      "text/plain": [
       "array([3, 5, 2, 1, 0, 4], dtype=int64)"
      ]
     },
     "execution_count": 5,
     "metadata": {},
     "output_type": "execute_result"
    }
   ],
   "source": [
    "approval_voting.ranking()"
   ]
  },
  {
   "cell_type": "code",
   "execution_count": 6,
   "metadata": {
    "ExecuteTime": {
     "end_time": "2021-05-12T16:16:05.306896Z",
     "start_time": "2021-05-12T16:16:05.293930Z"
    }
   },
   "outputs": [
    {
     "name": "stdout",
     "output_type": "stream",
     "text": [
      "d > f > c > b > a > e\n"
     ]
    }
   ],
   "source": [
    "approval_voting.print_ranking()"
   ]
  },
  {
   "cell_type": "code",
   "execution_count": 7,
   "metadata": {
    "ExecuteTime": {
     "end_time": "2021-05-12T16:16:05.426574Z",
     "start_time": "2021-05-12T16:16:05.321861Z"
    }
   },
   "outputs": [
    {
     "data": {
      "text/plain": [
       "1.0"
      ]
     },
     "execution_count": 7,
     "metadata": {},
     "output_type": "execute_result"
    }
   ],
   "source": [
    "approval_voting.quality"
   ]
  },
  {
   "cell_type": "markdown",
   "metadata": {},
   "source": [
    "# The different voting rules"
   ]
  },
  {
   "cell_type": "markdown",
   "metadata": {},
   "source": [
    "Let's compare some voting rule. First, rules from the original paper :"
   ]
  },
  {
   "cell_type": "code",
   "execution_count": 8,
   "metadata": {
    "ExecuteTime": {
     "end_time": "2021-05-12T16:16:05.438543Z",
     "start_time": "2021-05-12T16:16:05.433558Z"
    }
   },
   "outputs": [],
   "source": [
    "rules = [pr.AV(), \n",
    "         pr.reversePAV(), \n",
    "         pr.phragmenMinmax(),\n",
    "         pr.seqPAV(), \n",
    "         pr.geometric(2), \n",
    "         pr.geometric(5/4), \n",
    "         pr.geometric(10)]"
   ]
  },
  {
   "cell_type": "code",
   "execution_count": 9,
   "metadata": {
    "ExecuteTime": {
     "end_time": "2021-05-12T16:19:17.775244Z",
     "start_time": "2021-05-12T16:16:05.440537Z"
    }
   },
   "outputs": [
    {
     "name": "stderr",
     "output_type": "stream",
     "text": [
      "c:\\users\\theo delemazure\\documents\\ens\\stage berlin\\github\\proportional_ranking\\proportional_ranking\\rules\\reversePAV.py:29: RuntimeWarning: divide by zero encountered in true_divide\n",
      "  s = (1 / curr_weights).dot(scores)\n",
      "c:\\users\\theo delemazure\\documents\\ens\\stage berlin\\github\\proportional_ranking\\proportional_ranking\\rules\\Phragmen.py:20: RuntimeWarning: divide by zero encountered in true_divide\n",
      "  s = (1 + load.dot(scores)) / (np.ones(n).dot(scores))\n",
      "c:\\users\\theo delemazure\\documents\\ens\\stage berlin\\github\\proportional_ranking\\proportional_ranking\\rules\\Phragmen.py:24: RuntimeWarning: invalid value encountered in double_scalars\n",
      "  if min_v - s[k] > 0.0001:\n"
     ]
    }
   ],
   "source": [
    "results = pr.compare_rules(8, 5, rules, 1000)"
   ]
  },
  {
   "cell_type": "code",
   "execution_count": 10,
   "metadata": {
    "ExecuteTime": {
     "end_time": "2021-05-12T16:19:17.813947Z",
     "start_time": "2021-05-12T16:19:17.780038Z"
    }
   },
   "outputs": [
    {
     "data": {
      "text/html": [
       "<div>\n",
       "<style scoped>\n",
       "    .dataframe tbody tr th:only-of-type {\n",
       "        vertical-align: middle;\n",
       "    }\n",
       "\n",
       "    .dataframe tbody tr th {\n",
       "        vertical-align: top;\n",
       "    }\n",
       "\n",
       "    .dataframe thead th {\n",
       "        text-align: right;\n",
       "    }\n",
       "</style>\n",
       "<table border=\"1\" class=\"dataframe\">\n",
       "  <thead>\n",
       "    <tr style=\"text-align: right;\">\n",
       "      <th></th>\n",
       "      <th>quality</th>\n",
       "      <th>success</th>\n",
       "    </tr>\n",
       "  </thead>\n",
       "  <tbody>\n",
       "    <tr>\n",
       "      <th>AV</th>\n",
       "      <td>1.074864</td>\n",
       "      <td>0.947</td>\n",
       "    </tr>\n",
       "    <tr>\n",
       "      <th>geometric (10.00)</th>\n",
       "      <td>1.084042</td>\n",
       "      <td>0.978</td>\n",
       "    </tr>\n",
       "    <tr>\n",
       "      <th>geometric (2.00)</th>\n",
       "      <td>1.086878</td>\n",
       "      <td>0.979</td>\n",
       "    </tr>\n",
       "    <tr>\n",
       "      <th>reversePAV</th>\n",
       "      <td>1.089883</td>\n",
       "      <td>0.978</td>\n",
       "    </tr>\n",
       "    <tr>\n",
       "      <th>geometric (1.25)</th>\n",
       "      <td>1.093725</td>\n",
       "      <td>0.983</td>\n",
       "    </tr>\n",
       "    <tr>\n",
       "      <th>seqPAV</th>\n",
       "      <td>1.095592</td>\n",
       "      <td>0.985</td>\n",
       "    </tr>\n",
       "    <tr>\n",
       "      <th>PhragmenMinmax</th>\n",
       "      <td>1.098456</td>\n",
       "      <td>0.983</td>\n",
       "    </tr>\n",
       "    <tr>\n",
       "      <th>BestOf</th>\n",
       "      <td>1.108242</td>\n",
       "      <td>0.994</td>\n",
       "    </tr>\n",
       "  </tbody>\n",
       "</table>\n",
       "</div>"
      ],
      "text/plain": [
       "                    quality  success\n",
       "AV                 1.074864    0.947\n",
       "geometric (10.00)  1.084042    0.978\n",
       "geometric (2.00)   1.086878    0.979\n",
       "reversePAV         1.089883    0.978\n",
       "geometric (1.25)   1.093725    0.983\n",
       "seqPAV             1.095592    0.985\n",
       "PhragmenMinmax     1.098456    0.983\n",
       "BestOf             1.108242    0.994"
      ]
     },
     "execution_count": 10,
     "metadata": {},
     "output_type": "execute_result"
    }
   ],
   "source": [
    "avg, fails = results\n",
    "ranking = np.argsort(avg)\n",
    "rules_name = [rules[i].name for i in ranking[:-1:]]\n",
    "rules_name.append(\"BestOf\")\n",
    "avg_sorted = avg[ranking]\n",
    "fails_sorted = fails[ranking]\n",
    "M = np.zeros((2,len(ranking)))\n",
    "M[0] = avg_sorted\n",
    "M[1] = fails_sorted\n",
    "pd.DataFrame(M.T, columns=[\"quality\", \"success\"], index=rules_name)\n",
    "    "
   ]
  },
  {
   "cell_type": "markdown",
   "metadata": {},
   "source": [
    "Let's see now how my personnal rules perform : "
   ]
  },
  {
   "cell_type": "code",
   "execution_count": 11,
   "metadata": {
    "ExecuteTime": {
     "end_time": "2021-05-12T16:23:09.798343Z",
     "start_time": "2021-05-12T16:19:17.815942Z"
    }
   },
   "outputs": [
    {
     "data": {
      "text/html": [
       "<div>\n",
       "<style scoped>\n",
       "    .dataframe tbody tr th:only-of-type {\n",
       "        vertical-align: middle;\n",
       "    }\n",
       "\n",
       "    .dataframe tbody tr th {\n",
       "        vertical-align: top;\n",
       "    }\n",
       "\n",
       "    .dataframe thead th {\n",
       "        text-align: right;\n",
       "    }\n",
       "</style>\n",
       "<table border=\"1\" class=\"dataframe\">\n",
       "  <thead>\n",
       "    <tr style=\"text-align: right;\">\n",
       "      <th></th>\n",
       "      <th>quality</th>\n",
       "      <th>success</th>\n",
       "    </tr>\n",
       "  </thead>\n",
       "  <tbody>\n",
       "    <tr>\n",
       "      <th>AV</th>\n",
       "      <td>1.099306</td>\n",
       "      <td>0.959</td>\n",
       "    </tr>\n",
       "    <tr>\n",
       "      <th>geometric (1.25)</th>\n",
       "      <td>1.116950</td>\n",
       "      <td>0.986</td>\n",
       "    </tr>\n",
       "    <tr>\n",
       "      <th>seqPAV (alpha = -0.10)</th>\n",
       "      <td>1.117200</td>\n",
       "      <td>0.986</td>\n",
       "    </tr>\n",
       "    <tr>\n",
       "      <th>reversePAV (alpha = -0.00)</th>\n",
       "      <td>1.117742</td>\n",
       "      <td>0.991</td>\n",
       "    </tr>\n",
       "    <tr>\n",
       "      <th>seqPAV</th>\n",
       "      <td>1.118658</td>\n",
       "      <td>0.987</td>\n",
       "    </tr>\n",
       "    <tr>\n",
       "      <th>seqPAV (alpha = 0.01)</th>\n",
       "      <td>1.119258</td>\n",
       "      <td>0.984</td>\n",
       "    </tr>\n",
       "    <tr>\n",
       "      <th>PhragmenMinmax</th>\n",
       "      <td>1.119503</td>\n",
       "      <td>0.987</td>\n",
       "    </tr>\n",
       "    <tr>\n",
       "      <th>reversePAV (alpha = 0.01)</th>\n",
       "      <td>1.120033</td>\n",
       "      <td>0.989</td>\n",
       "    </tr>\n",
       "    <tr>\n",
       "      <th>BestOf</th>\n",
       "      <td>1.130681</td>\n",
       "      <td>0.996</td>\n",
       "    </tr>\n",
       "  </tbody>\n",
       "</table>\n",
       "</div>"
      ],
      "text/plain": [
       "                             quality  success\n",
       "AV                          1.099306    0.959\n",
       "geometric (1.25)            1.116950    0.986\n",
       "seqPAV (alpha = -0.10)      1.117200    0.986\n",
       "reversePAV (alpha = -0.00)  1.117742    0.991\n",
       "seqPAV                      1.118658    0.987\n",
       "seqPAV (alpha = 0.01)       1.119258    0.984\n",
       "PhragmenMinmax              1.119503    0.987\n",
       "reversePAV (alpha = 0.01)   1.120033    0.989\n",
       "BestOf                      1.130681    0.996"
      ]
     },
     "execution_count": 11,
     "metadata": {},
     "output_type": "execute_result"
    }
   ],
   "source": [
    "rules = [pr.AV(), \n",
    "         pr.phragmenMinmax(),\n",
    "         pr.seqPAV(),\n",
    "         pr.geometric(5/4),\n",
    "        pr.reversePAV(.01),\n",
    "        pr.reversePAV(-.001),\n",
    "        pr.seqPAV(.01),\n",
    "        pr.seqPAV(-.1)]\n",
    "results = pr.compare_rules(8, 5, rules, 1000)\n",
    "\n",
    "avg, fails = results\n",
    "ranking = np.argsort(avg)\n",
    "rules_name = [rules[i].name for i in ranking[:-1:]]\n",
    "rules_name.append(\"BestOf\")\n",
    "avg_sorted = avg[ranking]\n",
    "fails_sorted = fails[ranking]\n",
    "M = np.zeros((2,len(ranking)))\n",
    "M[0] = avg_sorted\n",
    "M[1] = fails_sorted\n",
    "pd.DataFrame(M.T, columns=[\"quality\", \"success\"], index=rules_name)"
   ]
  },
  {
   "cell_type": "markdown",
   "metadata": {},
   "source": [
    "You can see that the success rate seems to be a bit higher with a $\\alpha \\ne 0$ for reversePAV. Now let's see how bordaPAV performs, and the maximal success rate (which is acheived by *justifyIt*, a rule that simply search for a ranking with quality $> 1$)."
   ]
  },
  {
   "cell_type": "code",
   "execution_count": 12,
   "metadata": {
    "ExecuteTime": {
     "end_time": "2021-05-12T16:27:11.290640Z",
     "start_time": "2021-05-12T16:23:09.800338Z"
    }
   },
   "outputs": [
    {
     "data": {
      "text/html": [
       "<div>\n",
       "<style scoped>\n",
       "    .dataframe tbody tr th:only-of-type {\n",
       "        vertical-align: middle;\n",
       "    }\n",
       "\n",
       "    .dataframe tbody tr th {\n",
       "        vertical-align: top;\n",
       "    }\n",
       "\n",
       "    .dataframe thead th {\n",
       "        text-align: right;\n",
       "    }\n",
       "</style>\n",
       "<table border=\"1\" class=\"dataframe\">\n",
       "  <thead>\n",
       "    <tr style=\"text-align: right;\">\n",
       "      <th></th>\n",
       "      <th>quality</th>\n",
       "      <th>success</th>\n",
       "    </tr>\n",
       "  </thead>\n",
       "  <tbody>\n",
       "    <tr>\n",
       "      <th>JustifyIt</th>\n",
       "      <td>1.029831</td>\n",
       "      <td>0.997</td>\n",
       "    </tr>\n",
       "    <tr>\n",
       "      <th>AV</th>\n",
       "      <td>1.085928</td>\n",
       "      <td>0.961</td>\n",
       "    </tr>\n",
       "    <tr>\n",
       "      <th>reversePAV (alpha = -0.00)</th>\n",
       "      <td>1.101392</td>\n",
       "      <td>0.989</td>\n",
       "    </tr>\n",
       "    <tr>\n",
       "      <th>seqPAV</th>\n",
       "      <td>1.103967</td>\n",
       "      <td>0.987</td>\n",
       "    </tr>\n",
       "    <tr>\n",
       "      <th>bordaPAV</th>\n",
       "      <td>1.104842</td>\n",
       "      <td>0.990</td>\n",
       "    </tr>\n",
       "    <tr>\n",
       "      <th>reversePAV (alpha = 0.01)</th>\n",
       "      <td>1.105903</td>\n",
       "      <td>0.989</td>\n",
       "    </tr>\n",
       "    <tr>\n",
       "      <th>PhragmenMinmax</th>\n",
       "      <td>1.106214</td>\n",
       "      <td>0.988</td>\n",
       "    </tr>\n",
       "    <tr>\n",
       "      <th>BestOf</th>\n",
       "      <td>1.115311</td>\n",
       "      <td>0.997</td>\n",
       "    </tr>\n",
       "  </tbody>\n",
       "</table>\n",
       "</div>"
      ],
      "text/plain": [
       "                             quality  success\n",
       "JustifyIt                   1.029831    0.997\n",
       "AV                          1.085928    0.961\n",
       "reversePAV (alpha = -0.00)  1.101392    0.989\n",
       "seqPAV                      1.103967    0.987\n",
       "bordaPAV                    1.104842    0.990\n",
       "reversePAV (alpha = 0.01)   1.105903    0.989\n",
       "PhragmenMinmax              1.106214    0.988\n",
       "BestOf                      1.115311    0.997"
      ]
     },
     "execution_count": 12,
     "metadata": {},
     "output_type": "execute_result"
    }
   ],
   "source": [
    "rules = [pr.AV(), \n",
    "         pr.phragmenMinmax(),\n",
    "         pr.seqPAV(),\n",
    "        pr.bordaPAV(),\n",
    "        pr.reversePAV(.01),\n",
    "        pr.reversePAV(-.001),\n",
    "        pr.justifyIt()]\n",
    "results = pr.compare_rules(8, 5, rules, 1000)\n",
    "\n",
    "avg, fails = results\n",
    "ranking = np.argsort(avg)\n",
    "rules_name = [rules[i].name for i in ranking[:-1:]]\n",
    "rules_name.append(\"BestOf\")\n",
    "avg_sorted = avg[ranking]\n",
    "fails_sorted = fails[ranking]\n",
    "M = np.zeros((2,len(ranking)))\n",
    "M[0] = avg_sorted\n",
    "M[1] = fails_sorted\n",
    "pd.DataFrame(M.T, columns=[\"quality\", \"success\"], index=rules_name)"
   ]
  },
  {
   "cell_type": "markdown",
   "metadata": {},
   "source": [
    "# A Hard case"
   ]
  },
  {
   "cell_type": "markdown",
   "metadata": {},
   "source": [
    "There exists some \"hard\" profile, like this one :"
   ]
  },
  {
   "cell_type": "code",
   "execution_count": 2,
   "metadata": {
    "ExecuteTime": {
     "end_time": "2021-05-12T16:46:04.521154Z",
     "start_time": "2021-05-12T16:46:04.512146Z"
    }
   },
   "outputs": [
    {
     "name": "stdout",
     "output_type": "stream",
     "text": [
      "0 : a d\n",
      "1 : a d\n",
      "2 : a b\n",
      "3 : a b c e\n",
      "4 : b d\n",
      "5 : b c d e\n",
      "6 : c d\n",
      "7 : c e\n"
     ]
    }
   ],
   "source": [
    "profile = pr.hard_profile_1\n",
    "pr.print_profile(profile)"
   ]
  },
  {
   "cell_type": "markdown",
   "metadata": {},
   "source": [
    "None of the rules return a ranking with quality $> 1$ for this profile, even if such a ranking exists, as it is shown by the rule *maxQuality*. It can be due to tie-breaking mechanism, but that shows that all these rules are not **proportional-consistant**."
   ]
  },
  {
   "cell_type": "code",
   "execution_count": 5,
   "metadata": {
    "ExecuteTime": {
     "end_time": "2021-05-12T16:47:25.957197Z",
     "start_time": "2021-05-12T16:47:22.999109Z"
    }
   },
   "outputs": [
    {
     "name": "stdout",
     "output_type": "stream",
     "text": [
      "AV : 0.75\n",
      "d > c > b > a > e\n",
      "PhragmenMinmax : 0.75\n",
      "d > a > c > b > e\n",
      "seqPAV : 0.75\n",
      "d > a > c > b > e\n",
      "geometric (1.25) : 0.75\n",
      "d > a > c > b > e\n",
      "reversePAV (alpha = 0.01) : 0.75\n",
      "d > a > c > b > e\n",
      "reversePAV (alpha = -0.00) : 0.75\n",
      "d > a > c > b > e\n",
      "seqPAV (alpha = 0.01) : 0.75\n",
      "d > a > c > b > e\n",
      "seqPAV (alpha = -0.10) : 0.75\n",
      "d > a > c > b > e\n",
      "reversePAV : 0.75\n",
      "a > d > c > b > e\n",
      "geometric (2.00) : 0.75\n",
      "d > a > c > b > e\n",
      "geometric (10.00) : 0.75\n",
      "d > a > c > b > e\n",
      "PhragmenClassic : 0.75\n",
      "d > a > c > b > e\n",
      "IRVSum : 0.75\n",
      "d > a > c > b > e\n",
      "PhragmenDepile : 0.75\n",
      "d > a > c > b > e\n",
      "bordaPAV : 0.75\n",
      "d > a > c > b > e\n",
      "MaxQuality : 1.00\n",
      "b > d > a > c > e\n"
     ]
    }
   ],
   "source": [
    "pr.test_profile(profile, [pr.AV(), \n",
    "         pr.phragmenMinmax(),\n",
    "         pr.seqPAV(),\n",
    "         pr.geometric(5/4),\n",
    "        pr.reversePAV(.01),\n",
    "        pr.reversePAV(-.001),\n",
    "        pr.seqPAV(.01),\n",
    "        pr.seqPAV(-.1),\n",
    "         pr.reversePAV(), \n",
    "         pr.geometric(2), \n",
    "         pr.geometric(10),\n",
    "        pr.phragmenClassic(),\n",
    "        pr.IRVSum(),\n",
    "        pr.phragmenDepile(),\n",
    "        pr.bordaPAV(),\n",
    "        pr.maxQuality()])"
   ]
  }
 ],
 "metadata": {
  "kernelspec": {
   "display_name": "Python 3",
   "language": "python",
   "name": "python3"
  },
  "language_info": {
   "codemirror_mode": {
    "name": "ipython",
    "version": 3
   },
   "file_extension": ".py",
   "mimetype": "text/x-python",
   "name": "python",
   "nbconvert_exporter": "python",
   "pygments_lexer": "ipython3",
   "version": "3.7.3"
  }
 },
 "nbformat": 4,
 "nbformat_minor": 2
}
